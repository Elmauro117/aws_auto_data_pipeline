{
 "cells": [
  {
   "cell_type": "markdown",
   "metadata": {},
   "source": [
    "## Lambda function\n",
    "###### It triggers the COPY to the redshift table. \n",
    "Basically this code reads where is the newly uploaded CSV, and copies it on the redshift TABLE."
   ]
  },
  {
   "cell_type": "code",
   "execution_count": null,
   "metadata": {},
   "outputs": [],
   "source": [
    "import json\n",
    "import psycopg2\n",
    "import os\n",
    "\n",
    "def lambda_handler(event, context):\n",
    "    print(\"event collected is {}\".format(event))\n",
    "    for record in event['Records'] :\n",
    "        s3_bucket = record['s3']['bucket']['name']\n",
    "        print(\"Bucket name is {}\".format(s3_bucket))\n",
    "        s3_key = record['s3']['object']['key']   ## Acá está el Folder\n",
    "        print(\"Bucket key name is {}\".format(s3_key))\n",
    "        from_path = \"s3://{}/{}\".format(s3_bucket, s3_key)\n",
    "        print(\"from path {}\".format(from_path))\n",
    "        credentials = 'aws_iam_role=arn:aws:iam::691119770807:role/MiRoleRedshift'\n",
    "        dbname = \"dev\"      \n",
    "        host = \"redshift-cluster-1.cajf5la2kg9f.us-east-1.redshift.amazonaws.com\"     \n",
    "        user =  \"awsuser\"    \n",
    "        password =  \"Holamundo257\"   \n",
    "        tablename =  \"public.el_pc_gamer\"       \n",
    "        connection = psycopg2.connect(dbname = dbname,\n",
    "                                       host = host,\n",
    "                                       port = '5439',\n",
    "                                       user = user,\n",
    "                                       password = password)\n",
    "                                       \n",
    "        print('after connection....')\n",
    "        curs = connection.cursor()\n",
    "        print('after cursor....')\n",
    "        querry = \"COPY {} FROM '{}' CREDENTIALS '{}' CSV IGNOREHEADER 1;\".format(tablename,from_path,credentials)\n",
    "        print(\"query is {}\".format(querry))\n",
    "        print('after querry....')\n",
    "        curs.execute(querry)\n",
    "        connection.commit()\n",
    "        print('after execute....')\n",
    "        curs.close()\n",
    "        print('after curs close....')\n",
    "        connection.close()\n",
    "        print('after connection close....')\n",
    "        print('wow..executed....')"
   ]
  },
  {
   "cell_type": "code",
   "execution_count": null,
   "metadata": {},
   "outputs": [],
   "source": []
  }
 ],
 "metadata": {
  "kernelspec": {
   "display_name": "Python 3",
   "language": "python",
   "name": "python3"
  },
  "language_info": {
   "codemirror_mode": {
    "name": "ipython",
    "version": 3
   },
   "file_extension": ".py",
   "mimetype": "text/x-python",
   "name": "python",
   "nbconvert_exporter": "python",
   "pygments_lexer": "ipython3",
   "version": "3.8.3"
  }
 },
 "nbformat": 4,
 "nbformat_minor": 4
}
